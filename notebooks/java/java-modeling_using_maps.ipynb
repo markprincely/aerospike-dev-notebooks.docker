{
 "cells": [
  {
   "cell_type": "markdown",
   "id": "about-resident",
   "metadata": {},
   "source": [
    "# Modeling Using Maps\n",
    "*Last updated: July 6, 2021*\n",
    "\n",
    "This notebook shares how Aerospike facilitates working with map data, covering the following topics:\n",
    "\n",
    "1. Ordering\n",
    "2. Index & Rank\n",
    "3. Nested Structures (subcontexts)\n",
    "\n",
    "The above Aerospike capabilities provide significant utility through sorting and ordering lists. This notebook shares how to use maps as a powerful modeling tool and to incorporate these strengths.\n",
    "\n",
    "This [Jupyter Notebook](https://jupyter-notebook.readthedocs.io/en/stable/notebook.html) requires the Aerospike Database running locally with Java kernel and Aerospike Java Client. To create a Docker container that satisfies the requirements and holds a copy of these notebooks, visit the [Aerospike Notebooks Repo](https://github.com/aerospike/aerospike-dev-notebooks.docker)."
   ]
  },
  {
   "cell_type": "markdown",
   "id": "fitted-cricket",
   "metadata": {},
   "source": [
    "## Notebook Setup"
   ]
  },
  {
   "cell_type": "markdown",
   "id": "innovative-snake",
   "metadata": {},
   "source": [
    "### Import Jupyter Java Integration "
   ]
  },
  {
   "cell_type": "code",
   "execution_count": 1,
   "id": "flexible-volunteer",
   "metadata": {},
   "outputs": [],
   "source": [
    "import io.github.spencerpark.ijava.IJava;\n",
    "import io.github.spencerpark.jupyter.kernel.magic.common.Shell;\n",
    "\n",
    "IJava.getKernelInstance().getMagics().registerMagics(Shell.class);"
   ]
  },
  {
   "cell_type": "markdown",
   "id": "universal-street",
   "metadata": {},
   "source": [
    "### Start Aerospike"
   ]
  },
  {
   "cell_type": "code",
   "execution_count": 2,
   "id": "spatial-disposal",
   "metadata": {},
   "outputs": [],
   "source": [
    "%sh asd"
   ]
  },
  {
   "cell_type": "markdown",
   "id": "intelligent-degree",
   "metadata": {},
   "source": [
    "### Download the Aerospike Java Client"
   ]
  },
  {
   "cell_type": "code",
   "execution_count": 3,
   "id": "judicial-theology",
   "metadata": {},
   "outputs": [],
   "source": [
    "%%loadFromPOM\n",
    "<dependencies>\n",
    "  <dependency>\n",
    "    <groupId>com.aerospike</groupId>\n",
    "    <artifactId>aerospike-client</artifactId>\n",
    "    <version>5.0.0</version>\n",
    "  </dependency>\n",
    "</dependencies>"
   ]
  },
  {
   "cell_type": "markdown",
   "id": "secret-voltage",
   "metadata": {},
   "source": [
    "### Start the Aerospike Java Client and Connect\n",
    "\n",
    "The default cluster location for the Docker container is *localhost* port *3000*. If your cluster is not running on your local machine, modify *localhost* and *3000* to the values for your Aerospike cluster."
   ]
  },
  {
   "cell_type": "code",
   "execution_count": 4,
   "id": "professional-runner",
   "metadata": {},
   "outputs": [
    {
     "name": "stdout",
     "output_type": "stream",
     "text": [
      "Initialized the client and connected to the cluster.\n"
     ]
    }
   ],
   "source": [
    "import com.aerospike.client.AerospikeClient;\n",
    "\n",
    "AerospikeClient client = new AerospikeClient(\"localhost\", 3000);\n",
    "System.out.println(\"Initialized the client and connected to the cluster.\");"
   ]
  },
  {
   "cell_type": "markdown",
   "id": "sufficient-resolution",
   "metadata": {},
   "source": [
    "# Prerequisites\n",
    "\n",
    "* [Reading and Updating Maps](./java-working_with_maps.ipynb)\n",
    "* [Advanced CDTs](./java-advanced_collection_data_types.ipynb)\n",
    "* [Introduction to Data Modeling](./java-intro_to_data_modeling.ipynb)\n",
    "* [Modeling Using Lists](./java-modeling_using_lists.ipynb)\n"
   ]
  },
  {
   "cell_type": "markdown",
   "id": "signal-aging",
   "metadata": {},
   "source": [
    "# Aerospike Provides Powerful Resources for Working with Document-Oriented Data \n",
    "\n",
    "Key-Value Store databases, like Aerospike, were architected to store Document-Oriented Data efficiently at scale. Rather than blindly store blobs in the database and sort out the data in the application, Aerospike provides rich APIs supporting Maps and Lists (Collection Data Types) in Aerospike Records. The result is that rather than spending an outsized time transporting data to and from the database, significant performance efficiencies are gained by working with Document-Oriented Data on the server-side."
   ]
  },
  {
   "cell_type": "markdown",
   "id": "stable-shield",
   "metadata": {},
   "source": [
    "# Apply Key-Order or Key/Value-Order to Maps\n",
    "\n",
    "The default order for Aerospike Maps is unordered. The best practice is to use an ordered map, either Key-ordered (K-ordered) or Key/Value-ordered (KV-ordered):\n",
    "* If the application reads data only by-key, use K-ordered.\n",
    "* If the application reads data frequently by either by-value or by-rank operations, use KV-ordered.\n",
    "\n",
    "Worst case [Map Operation Performance](https://docs.aerospike.com/docs/guide/cdt-map-performance.html) highlight that the benefits of operating on a pre-sorted list are significant."
   ]
  },
  {
   "cell_type": "markdown",
   "id": "accredited-organic",
   "metadata": {},
   "source": [
    "## Ordering Example\n",
    "\n",
    "Add map keys to Bins containing unordered, k-ordered, and kv-ordered maps."
   ]
  },
  {
   "cell_type": "code",
   "execution_count": 17,
   "id": "foster-glasgow",
   "metadata": {},
   "outputs": [
    {
     "name": "stdout",
     "output_type": "stream",
     "text": [
      "The unordered map is: {yy=1, a=1, b=0, z=2, c=9}\n",
      "The k-ordered map is: {a=1, b=0, c=9, yy=1, z=2}\n",
      "The kv-unordered map is also: {a=1, b=0, c=9, yy=1, z=2}\n"
     ]
    }
   ],
   "source": [
    "import java.util.ArrayList;\n",
    "import java.util.Arrays;\n",
    "import java.util.HashMap;\n",
    "import java.util.List;\n",
    "import java.util.Map;\n",
    "import com.aerospike.client.Key;\n",
    "import com.aerospike.client.Bin;\n",
    "import com.aerospike.client.Record;\n",
    "import com.aerospike.client.Operation;\n",
    "import com.aerospike.client.Value;\n",
    "import com.aerospike.client.cdt.MapOperation;\n",
    "import com.aerospike.client.cdt.MapOrder;\n",
    "import com.aerospike.client.cdt.MapPolicy;\n",
    "import com.aerospike.client.cdt.MapWriteFlags;\n",
    "\n",
    "\n",
    "String mapModelSetName = \"mapmodelset1\";\n",
    "String mapModelNamespaceName = \"test\";\n",
    "\n",
    "String mapOrderKeyName = \"mapOrder\";\n",
    "Key mapOrderKey = new Key(mapModelNamespaceName, mapModelSetName, mapOrderKeyName);\n",
    "\n",
    "String unorderedMapBinName = \"uoBin\";\n",
    "String kOrderedMapBinName = \"koBin\";\n",
    "String kvOrderedMapBinName = \"kvoBin\";\n",
    "\n",
    "Bin bin1 = new Bin(unorderedMapBinName, mapOrderKeyName);\n",
    "Bin bin2 = new Bin(kOrderedMapBinName, mapOrderKeyName);\n",
    "Bin bin3 = new Bin(kOrderedMapBinName, mapOrderKeyName);\n",
    "\n",
    "MapPolicy unorderedBinPolicy = new MapPolicy();\n",
    "MapPolicy kOrderedBinPolicy = new MapPolicy(MapOrder.KEY_ORDERED, MapWriteFlags.DEFAULT);\n",
    "MapPolicy kvOrderedBinPolicy = new MapPolicy(MapOrder.KEY_VALUE_ORDERED, MapWriteFlags.DEFAULT);\n",
    "\n",
    "\n",
    "String stringKey0 = \"b\";\n",
    "Integer intValue0 = 0;\n",
    "String stringKey1 = \"z\";\n",
    "Integer intValue1 = 2;\n",
    "String stringKey2 = \"c\";\n",
    "Integer intValue2 = 9;\n",
    "String stringKey3 = \"a\";\n",
    "Integer intValue3 = 1;\n",
    "String stringKey4 = \"yy\";\n",
    "Integer intValue4 = 1;\n",
    "\n",
    "\n",
    "Record addMapKeys = client.operate(null, mapOrderKey,\n",
    "    MapOperation.put(unorderedBinPolicy, unorderedMapBinName, Value.get(stringKey0), Value.get(intValue0)), \n",
    "    MapOperation.put(kOrderedBinPolicy, kOrderedMapBinName, Value.get(stringKey0), Value.get(intValue0)), \n",
    "    MapOperation.put(kvOrderedBinPolicy, kvOrderedMapBinName, Value.get(stringKey0), Value.get(intValue0)), \n",
    "    MapOperation.put(unorderedBinPolicy, unorderedMapBinName, Value.get(stringKey1), Value.get(intValue1)), \n",
    "    MapOperation.put(kOrderedBinPolicy, kOrderedMapBinName, Value.get(stringKey1), Value.get(intValue1)), \n",
    "    MapOperation.put(kvOrderedBinPolicy, kvOrderedMapBinName, Value.get(stringKey1), Value.get(intValue1)), \n",
    "    MapOperation.put(unorderedBinPolicy, unorderedMapBinName, Value.get(stringKey2), Value.get(intValue2)), \n",
    "    MapOperation.put(kOrderedBinPolicy, kOrderedMapBinName, Value.get(stringKey2), Value.get(intValue2)), \n",
    "    MapOperation.put(kvOrderedBinPolicy, kvOrderedMapBinName, Value.get(stringKey2), Value.get(intValue2)), \n",
    "    MapOperation.put(unorderedBinPolicy, unorderedMapBinName, Value.get(stringKey3), Value.get(intValue3)), \n",
    "    MapOperation.put(kOrderedBinPolicy, kOrderedMapBinName, Value.get(stringKey3), Value.get(intValue3)), \n",
    "    MapOperation.put(kvOrderedBinPolicy, kvOrderedMapBinName, Value.get(stringKey3), Value.get(intValue3)), \n",
    "    MapOperation.put(unorderedBinPolicy, unorderedMapBinName, Value.get(stringKey4), Value.get(intValue4)), \n",
    "    MapOperation.put(kOrderedBinPolicy, kOrderedMapBinName, Value.get(stringKey4), Value.get(intValue4)), \n",
    "    MapOperation.put(kvOrderedBinPolicy, kvOrderedMapBinName, Value.get(stringKey4), Value.get(intValue4)) \n",
    "    );\n",
    "Record outMaps = client.get(null, mapOrderKey);\n",
    "\n",
    "\n",
    "System.out.println(\"The unordered map is: \" + outMaps.getValue(unorderedMapBinName));\n",
    "System.out.println(\"The k-ordered map is: \" + outMaps.getValue(kOrderedMapBinName));\n",
    "System.out.println(\"The kv-unordered map is also: \" + outMaps.getValue(kvOrderedMapBinName));"
   ]
  },
  {
   "cell_type": "markdown",
   "id": "lined-relative",
   "metadata": {},
   "source": [
    "# Map Index and Rank\n",
    "\n",
    "In Aerospike, **Map Index** operations provide data in the order of the key. \n",
    "\n",
    "**Map Rank** operations provides data in order of the value. Aerospike provides a methodical order for maps, the following are factors that impact rank:\n",
    "1. Higher number of elements in the Map means higher rank.\n",
    "2. For maps with the same number of elements, compare the KV-sorted list.\n",
    "   * Higher key results in higher rank.\n",
    "   * Same key and higher value results in higher rank."
   ]
  },
  {
   "cell_type": "markdown",
   "id": "czech-breakdown",
   "metadata": {},
   "source": [
    "## Index and Rank Examples\n",
    "\n",
    "The following example shows index and rank operations using a list of maps:\n",
    "\n",
    "`[{z:26}, {a:1, b:2}, {e:5, a:1, b:2, c:3}, {c:3, b:2}, {b:2, c:3}, {a:1}]`"
   ]
  },
  {
   "cell_type": "code",
   "execution_count": 45,
   "id": "valid-climb",
   "metadata": {},
   "outputs": [
    {
     "name": "stdout",
     "output_type": "stream",
     "text": [
      "The data is: [{z=26}, {a=1, b=2}, {a=1, b=2, c=3, e=5}, {b=2, c=3}, {b=2, c=3}, {a=1}]\n",
      "The first element in the 3rd map in the list is:[a=1]\n",
      "The maps in order from highest to lowest rank is: [{a=1, b=2, c=3, e=5}, {b=2, c=3}, {b=2, c=3}, {a=1, b=2}, {z=26}, {a=1}]\n"
     ]
    }
   ],
   "source": [
    "import com.aerospike.client.cdt.ListOperation;\n",
    "import com.aerospike.client.cdt.ListOrder;\n",
    "import com.aerospike.client.cdt.ListPolicy;\n",
    "import com.aerospike.client.cdt.ListWriteFlags;\n",
    "import com.aerospike.client.cdt.ListReturnType;\n",
    "import com.aerospike.client.cdt.MapReturnType;\n",
    "import com.aerospike.client.cdt.CTX;\n",
    "\n",
    "String stringKey0 = \"z\";\n",
    "Integer intValue0 = 26;\n",
    "String stringKey1 = \"a\";\n",
    "Integer intValue1 = 1;\n",
    "String stringKey2 = \"b\";\n",
    "Integer intValue2 = 2;\n",
    "String stringKey3 = \"c\";\n",
    "Integer intValue3 = 3;\n",
    "String stringKey4 = \"e\";\n",
    "Integer intValue4 = 5;\n",
    "\n",
    "String mapIndexAndRankKeyName = \"mapIndexAndRank\";\n",
    "Key mapIndexAndRankKey = new Key(mapModelNamespaceName, mapModelSetName, mapIndexAndRankKeyName);\n",
    "\n",
    "String unorderedListBinName = \"uoListBin\";\n",
    "\n",
    "Bin bin1 = new Bin(unorderedListBinName, mapIndexAndRankKeyName);\n",
    "\n",
    "Record addMapKeys = client.operate(null, mapIndexAndRankKey,\n",
    "    ListOperation.clear(unorderedListBinName),\n",
    "    ListOperation.create(unorderedListBinName, ListOrder.UNORDERED, false),\n",
    "    MapOperation.create(unorderedListBinName, MapOrder.UNORDERED, CTX.listIndexCreate(0, ListOrder.UNORDERED, false)),\n",
    "    MapOperation.put(unorderedBinPolicy, unorderedListBinName, Value.get(stringKey0), Value.get(intValue0), CTX.listIndex(-1)),\n",
    "    MapOperation.create(unorderedListBinName, MapOrder.UNORDERED, CTX.listIndexCreate(1, ListOrder.UNORDERED, false)),    \n",
    "    MapOperation.put(unorderedBinPolicy, unorderedListBinName, Value.get(stringKey1), Value.get(intValue1), CTX.listIndex(-1)),\n",
    "    MapOperation.put(unorderedBinPolicy, unorderedListBinName, Value.get(stringKey2), Value.get(intValue2), CTX.listIndex(-1)),\n",
    "    MapOperation.create(unorderedListBinName, MapOrder.UNORDERED, CTX.listIndexCreate(2, ListOrder.UNORDERED, false)),    \n",
    "    MapOperation.put(unorderedBinPolicy, unorderedListBinName, Value.get(stringKey4), Value.get(intValue4), CTX.listIndex(-1)),\n",
    "    MapOperation.put(unorderedBinPolicy, unorderedListBinName, Value.get(stringKey1), Value.get(intValue1), CTX.listIndex(-1)),\n",
    "    MapOperation.put(unorderedBinPolicy, unorderedListBinName, Value.get(stringKey2), Value.get(intValue2), CTX.listIndex(-1)),\n",
    "    MapOperation.put(unorderedBinPolicy, unorderedListBinName, Value.get(stringKey3), Value.get(intValue3), CTX.listIndex(-1)),\n",
    "    MapOperation.create(unorderedListBinName, MapOrder.UNORDERED, CTX.listIndexCreate(3, ListOrder.UNORDERED, false)),\n",
    "    MapOperation.put(unorderedBinPolicy, unorderedListBinName, Value.get(stringKey3), Value.get(intValue3), CTX.listIndex(-1)),\n",
    "    MapOperation.put(unorderedBinPolicy, unorderedListBinName, Value.get(stringKey2), Value.get(intValue2), CTX.listIndex(-1)),\n",
    "    MapOperation.create(unorderedListBinName, MapOrder.UNORDERED, CTX.listIndexCreate(4, ListOrder.UNORDERED, false)),\n",
    "    MapOperation.put(unorderedBinPolicy, unorderedListBinName, Value.get(stringKey2), Value.get(intValue2), CTX.listIndex(-1)),\n",
    "    MapOperation.put(unorderedBinPolicy, unorderedListBinName, Value.get(stringKey3), Value.get(intValue3), CTX.listIndex(-1)),\n",
    "    MapOperation.create(unorderedListBinName, MapOrder.UNORDERED, CTX.listIndexCreate(5, ListOrder.UNORDERED, false)),\n",
    "    MapOperation.put(unorderedBinPolicy, unorderedListBinName, Value.get(stringKey1), Value.get(intValue1), CTX.listIndex(-1))\n",
    "    );\n",
    "Record listOfMaps = client.get(null, mapIndexAndRankKey);\n",
    "\n",
    "Record getIndexAndRank = client.operate(null, mapIndexAndRankKey,\n",
    "    MapOperation.getByIndex(unorderedListBinName, 0, MapReturnType.KEY_VALUE, CTX.listIndex(2)),\n",
    "    ListOperation.getByRankRange(unorderedListBinName, 0, 6, ListReturnType.VALUE)\n",
    "    );\n",
    "\n",
    "List<?> indexAndRankResults = getIndexAndRank.getList(unorderedListBinName);\n",
    "\n",
    "System.out.println(\"The data is: \" + listOfMaps.getValue(unorderedListBinName));\n",
    "System.out.println(\"The first element in the 3rd map in the list is:\" + indexAndRankResults.get(0));\n",
    "System.out.println(\"The maps in order from highest to lowest rank is: \" + indexAndRankResults.get(1));\n"
   ]
  },
  {
   "cell_type": "markdown",
   "id": "figured-yemen",
   "metadata": {},
   "source": []
  },
  {
   "cell_type": "markdown",
   "id": "linear-preservation",
   "metadata": {},
   "source": []
  },
  {
   "cell_type": "markdown",
   "id": "fancy-secret",
   "metadata": {},
   "source": []
  },
  {
   "cell_type": "markdown",
   "id": "enclosed-joshua",
   "metadata": {},
   "source": []
  },
  {
   "cell_type": "markdown",
   "id": "successful-measure",
   "metadata": {},
   "source": [
    "# Notebook Cleanup"
   ]
  },
  {
   "cell_type": "markdown",
   "id": "regulation-claim",
   "metadata": {},
   "source": [
    "## Truncate the Set\n",
    "\n",
    "Truncate the set from the Aerospike Database."
   ]
  },
  {
   "cell_type": "code",
   "execution_count": 39,
   "id": "mental-roberts",
   "metadata": {},
   "outputs": [
    {
     "name": "stdout",
     "output_type": "stream",
     "text": [
      "Set Truncated.\n"
     ]
    }
   ],
   "source": [
    "import com.aerospike.client.policy.InfoPolicy;\n",
    "InfoPolicy infoPolicy = new InfoPolicy();\n",
    "\n",
    "client.truncate(infoPolicy, mapModelNamespaceName, mapModelSetName, null);\n",
    "System.out.println(\"Set Truncated.\");"
   ]
  },
  {
   "cell_type": "markdown",
   "id": "noted-bahrain",
   "metadata": {},
   "source": [
    "## Close the Connection to Aerospike"
   ]
  },
  {
   "cell_type": "code",
   "execution_count": null,
   "id": "compound-commodity",
   "metadata": {},
   "outputs": [],
   "source": [
    "client.close();\n",
    "System.out.println(\"Server connection closed.\");"
   ]
  },
  {
   "cell_type": "code",
   "execution_count": null,
   "id": "competitive-arctic",
   "metadata": {},
   "outputs": [],
   "source": []
  },
  {
   "cell_type": "code",
   "execution_count": null,
   "id": "opposed-credit",
   "metadata": {},
   "outputs": [],
   "source": []
  },
  {
   "cell_type": "code",
   "execution_count": null,
   "id": "tropical-colon",
   "metadata": {},
   "outputs": [],
   "source": []
  },
  {
   "cell_type": "code",
   "execution_count": null,
   "id": "biblical-starter",
   "metadata": {},
   "outputs": [],
   "source": []
  },
  {
   "cell_type": "code",
   "execution_count": null,
   "id": "virtual-december",
   "metadata": {},
   "outputs": [],
   "source": []
  },
  {
   "cell_type": "code",
   "execution_count": null,
   "id": "quality-athens",
   "metadata": {},
   "outputs": [],
   "source": []
  }
 ],
 "metadata": {
  "kernelspec": {
   "display_name": "Java",
   "language": "java",
   "name": "java"
  },
  "language_info": {
   "codemirror_mode": "java",
   "file_extension": ".jshell",
   "mimetype": "text/x-java-source",
   "name": "Java",
   "pygments_lexer": "java",
   "version": "11.0.8+10-LTS"
  },
  "toc": {
   "base_numbering": 1,
   "nav_menu": {},
   "number_sections": true,
   "sideBar": true,
   "skip_h1_title": false,
   "title_cell": "Table of Contents",
   "title_sidebar": "Contents",
   "toc_cell": false,
   "toc_position": {},
   "toc_section_display": true,
   "toc_window_display": false
  }
 },
 "nbformat": 4,
 "nbformat_minor": 5
}
